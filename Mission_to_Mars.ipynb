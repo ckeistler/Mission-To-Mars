{
 "cells": [
  {
   "cell_type": "code",
   "execution_count": 1,
   "id": "93ca7fa8",
   "metadata": {},
   "outputs": [],
   "source": [
    "# Import Splinter and BeautifulSoup\n",
    "from splinter import Browser\n",
    "from bs4 import BeautifulSoup as soup\n",
    "from webdriver_manager.chrome import ChromeDriverManager\n",
    "import pandas as pd"
   ]
  },
  {
   "cell_type": "code",
   "execution_count": 2,
   "id": "9aaa9f81",
   "metadata": {},
   "outputs": [
    {
     "name": "stderr",
     "output_type": "stream",
     "text": [
      "[WDM] - \n",
      "\n",
      "[WDM] - ====== WebDriver manager ======\n",
      "[WDM] - Current google-chrome version is 83.0.4103\n",
      "[WDM] - Get LATEST driver version for 83.0.4103\n",
      "[WDM] - Get LATEST driver version for 83.0.4103\n",
      "[WDM] - Trying to download new driver from https://chromedriver.storage.googleapis.com/83.0.4103.39/chromedriver_win32.zip\n",
      "[WDM] - Driver has been saved in cache [C:\\Users\\keistlec\\.wdm\\drivers\\chromedriver\\win32\\83.0.4103.39]\n"
     ]
    }
   ],
   "source": [
    "executable_path = {'executable_path': ChromeDriverManager().install()}\n",
    "browser = Browser('chrome', **executable_path, headless=False)"
   ]
  },
  {
   "cell_type": "code",
   "execution_count": 3,
   "id": "f8316016",
   "metadata": {},
   "outputs": [
    {
     "data": {
      "text/plain": [
       "True"
      ]
     },
     "execution_count": 3,
     "metadata": {},
     "output_type": "execute_result"
    }
   ],
   "source": [
    "# Visit the mars nasa news site\n",
    "url = 'https://redplanetscience.com'\n",
    "browser.visit(url)\n",
    "# Optional delay for loading the page\n",
    "browser.is_element_present_by_css('div.list_text', wait_time=1)"
   ]
  },
  {
   "cell_type": "code",
   "execution_count": 4,
   "id": "f1d6a1aa",
   "metadata": {},
   "outputs": [],
   "source": [
    "html = browser.html\n",
    "news_soup = soup(html, 'html.parser')\n",
    "slide_elem = news_soup.select_one('div.list_text')"
   ]
  },
  {
   "cell_type": "code",
   "execution_count": 5,
   "id": "10fe4f1c",
   "metadata": {},
   "outputs": [
    {
     "data": {
      "text/plain": [
       "<div class=\"content_title\">NASA Administrator Statement on Moon to Mars Initiative, FY 2021 Budget</div>"
      ]
     },
     "execution_count": 5,
     "metadata": {},
     "output_type": "execute_result"
    }
   ],
   "source": [
    "slide_elem.find('div', class_='content_title')"
   ]
  },
  {
   "cell_type": "code",
   "execution_count": 6,
   "id": "60be19d9",
   "metadata": {},
   "outputs": [
    {
     "data": {
      "text/plain": [
       "'NASA Administrator Statement on Moon to Mars Initiative, FY 2021 Budget'"
      ]
     },
     "execution_count": 6,
     "metadata": {},
     "output_type": "execute_result"
    }
   ],
   "source": [
    "# Use the parent element to find the first `a` tag and save it as `news_title`\n",
    "news_title = slide_elem.find('div', class_='content_title').get_text()\n",
    "news_title"
   ]
  },
  {
   "cell_type": "code",
   "execution_count": 7,
   "id": "ff6c6b2b",
   "metadata": {},
   "outputs": [
    {
     "data": {
      "text/plain": [
       "\"Jim Bridenstine addresses NASA's ambitious plans for the coming years, including Mars Sample Return.\""
      ]
     },
     "execution_count": 7,
     "metadata": {},
     "output_type": "execute_result"
    }
   ],
   "source": [
    "# Use the parent element to find the paragraph text\n",
    "news_p = slide_elem.find('div', class_='article_teaser_body').get_text()\n",
    "news_p"
   ]
  },
  {
   "cell_type": "markdown",
   "id": "2fffa6aa",
   "metadata": {},
   "source": [
    "### Featured Images"
   ]
  },
  {
   "cell_type": "code",
   "execution_count": 8,
   "id": "967242f9",
   "metadata": {},
   "outputs": [],
   "source": [
    "# Visit URL\n",
    "url = 'https://spaceimages-mars.com'\n",
    "browser.visit(url)"
   ]
  },
  {
   "cell_type": "code",
   "execution_count": 9,
   "id": "190f277c",
   "metadata": {},
   "outputs": [],
   "source": [
    "# Find and click the full image button\n",
    "full_image_elem = browser.find_by_tag('button')[1]\n",
    "full_image_elem.click()"
   ]
  },
  {
   "cell_type": "code",
   "execution_count": 10,
   "id": "70d66498",
   "metadata": {},
   "outputs": [],
   "source": [
    "# Parse the resulting html with soup\n",
    "html = browser.html\n",
    "img_soup = soup(html, 'html.parser')"
   ]
  },
  {
   "cell_type": "code",
   "execution_count": 11,
   "id": "6d239537",
   "metadata": {},
   "outputs": [
    {
     "data": {
      "text/plain": [
       "'image/featured/mars3.jpg'"
      ]
     },
     "execution_count": 11,
     "metadata": {},
     "output_type": "execute_result"
    }
   ],
   "source": [
    "# Find the relative image url\n",
    "img_url_rel = img_soup.find('img', class_='fancybox-image').get('src')\n",
    "img_url_rel"
   ]
  },
  {
   "cell_type": "code",
   "execution_count": 12,
   "id": "2ce8851d",
   "metadata": {},
   "outputs": [
    {
     "data": {
      "text/plain": [
       "'https://spaceimages-mars.com/image/featured/mars3.jpg'"
      ]
     },
     "execution_count": 12,
     "metadata": {},
     "output_type": "execute_result"
    }
   ],
   "source": [
    "# Use the base URL to create an absolute URL\n",
    "img_url = f'https://spaceimages-mars.com/{img_url_rel}'\n",
    "img_url"
   ]
  },
  {
   "cell_type": "code",
   "execution_count": 13,
   "id": "2bb284ff",
   "metadata": {},
   "outputs": [
    {
     "data": {
      "text/html": [
       "<div>\n",
       "<style scoped>\n",
       "    .dataframe tbody tr th:only-of-type {\n",
       "        vertical-align: middle;\n",
       "    }\n",
       "\n",
       "    .dataframe tbody tr th {\n",
       "        vertical-align: top;\n",
       "    }\n",
       "\n",
       "    .dataframe thead th {\n",
       "        text-align: right;\n",
       "    }\n",
       "</style>\n",
       "<table border=\"1\" class=\"dataframe\">\n",
       "  <thead>\n",
       "    <tr style=\"text-align: right;\">\n",
       "      <th></th>\n",
       "      <th>Earth</th>\n",
       "      <th>Mars</th>\n",
       "    </tr>\n",
       "    <tr>\n",
       "      <th>description</th>\n",
       "      <th></th>\n",
       "      <th></th>\n",
       "    </tr>\n",
       "  </thead>\n",
       "  <tbody>\n",
       "    <tr>\n",
       "      <th>Average Distance from Sun</th>\n",
       "      <td>93 million miles</td>\n",
       "      <td>142 million miles</td>\n",
       "    </tr>\n",
       "    <tr>\n",
       "      <th>Average Speed in Orbiting Sun</th>\n",
       "      <td>18.5 miles per second</td>\n",
       "      <td>14.5 miles per second</td>\n",
       "    </tr>\n",
       "    <tr>\n",
       "      <th>Diameter</th>\n",
       "      <td>7,926 miles</td>\n",
       "      <td>4,220 miles</td>\n",
       "    </tr>\n",
       "    <tr>\n",
       "      <th>Tilt of Axis</th>\n",
       "      <td>23.5 degrees</td>\n",
       "      <td>25 degrees</td>\n",
       "    </tr>\n",
       "    <tr>\n",
       "      <th>Length of Year</th>\n",
       "      <td>365.25 Days</td>\n",
       "      <td>687 Earth Days</td>\n",
       "    </tr>\n",
       "    <tr>\n",
       "      <th>Length of Day</th>\n",
       "      <td>23 hours 56 minutes</td>\n",
       "      <td>24 hours 37 minutes</td>\n",
       "    </tr>\n",
       "    <tr>\n",
       "      <th>Gravity</th>\n",
       "      <td>2.66 times that of Mars</td>\n",
       "      <td>0.375 that of Earth</td>\n",
       "    </tr>\n",
       "    <tr>\n",
       "      <th>Temperature</th>\n",
       "      <td>Average 57 degrees F</td>\n",
       "      <td>Average -81 degrees F</td>\n",
       "    </tr>\n",
       "    <tr>\n",
       "      <th>Atmosphere</th>\n",
       "      <td>nitrogen, oxygen, argon, others</td>\n",
       "      <td>mostly carbon dioxide, some water vapor</td>\n",
       "    </tr>\n",
       "    <tr>\n",
       "      <th>Number of Moons</th>\n",
       "      <td>1</td>\n",
       "      <td>2</td>\n",
       "    </tr>\n",
       "  </tbody>\n",
       "</table>\n",
       "</div>"
      ],
      "text/plain": [
       "                                                         Earth  \\\n",
       "description                                                      \n",
       "Average Distance from Sun                     93 million miles   \n",
       "Average Speed in Orbiting Sun            18.5 miles per second   \n",
       "Diameter                                           7,926 miles   \n",
       "Tilt of Axis                                      23.5 degrees   \n",
       "Length of Year                                     365.25 Days   \n",
       "Length of Day                              23 hours 56 minutes   \n",
       "Gravity                                2.66 times that of Mars   \n",
       "Temperature                               Average 57 degrees F   \n",
       "Atmosphere                     nitrogen, oxygen, argon, others   \n",
       "Number of Moons                                              1   \n",
       "\n",
       "                                                                  Mars  \n",
       "description                                                             \n",
       "Average Distance from Sun                            142 million miles  \n",
       "Average Speed in Orbiting Sun                    14.5 miles per second  \n",
       "Diameter                                                   4,220 miles  \n",
       "Tilt of Axis                                                25 degrees  \n",
       "Length of Year                                          687 Earth Days  \n",
       "Length of Day                                      24 hours 37 minutes  \n",
       "Gravity                                            0.375 that of Earth  \n",
       "Temperature                                      Average -81 degrees F  \n",
       "Atmosphere                     mostly carbon dioxide, some water vapor  \n",
       "Number of Moons                                                      2  "
      ]
     },
     "execution_count": 13,
     "metadata": {},
     "output_type": "execute_result"
    }
   ],
   "source": [
    "df = pd.read_html('https://mars.nasa.gov/all-about-mars/facts/')[0]\n",
    "df.columns=['description', 'Earth', 'Mars']\n",
    "df.set_index('description', inplace=True)\n",
    "df"
   ]
  },
  {
   "cell_type": "code",
   "execution_count": 14,
   "id": "2b0d6104",
   "metadata": {},
   "outputs": [
    {
     "data": {
      "text/plain": [
       "'<table border=\"1\" class=\"dataframe\">\\n  <thead>\\n    <tr style=\"text-align: right;\">\\n      <th></th>\\n      <th>Earth</th>\\n      <th>Mars</th>\\n    </tr>\\n    <tr>\\n      <th>description</th>\\n      <th></th>\\n      <th></th>\\n    </tr>\\n  </thead>\\n  <tbody>\\n    <tr>\\n      <th>Average Distance from Sun</th>\\n      <td>93 million miles</td>\\n      <td>142 million miles</td>\\n    </tr>\\n    <tr>\\n      <th>Average Speed in Orbiting Sun</th>\\n      <td>18.5 miles per second</td>\\n      <td>14.5 miles per second</td>\\n    </tr>\\n    <tr>\\n      <th>Diameter</th>\\n      <td>7,926 miles</td>\\n      <td>4,220 miles</td>\\n    </tr>\\n    <tr>\\n      <th>Tilt of Axis</th>\\n      <td>23.5 degrees</td>\\n      <td>25 degrees</td>\\n    </tr>\\n    <tr>\\n      <th>Length of Year</th>\\n      <td>365.25 Days</td>\\n      <td>687 Earth Days</td>\\n    </tr>\\n    <tr>\\n      <th>Length of Day</th>\\n      <td>23 hours 56 minutes</td>\\n      <td>24 hours 37 minutes</td>\\n    </tr>\\n    <tr>\\n      <th>Gravity</th>\\n      <td>2.66 times that of Mars</td>\\n      <td>0.375 that of Earth</td>\\n    </tr>\\n    <tr>\\n      <th>Temperature</th>\\n      <td>Average 57 degrees F</td>\\n      <td>Average -81 degrees F</td>\\n    </tr>\\n    <tr>\\n      <th>Atmosphere</th>\\n      <td>nitrogen, oxygen, argon, others</td>\\n      <td>mostly carbon dioxide, some water vapor</td>\\n    </tr>\\n    <tr>\\n      <th>Number of Moons</th>\\n      <td>1</td>\\n      <td>2</td>\\n    </tr>\\n  </tbody>\\n</table>'"
      ]
     },
     "execution_count": 14,
     "metadata": {},
     "output_type": "execute_result"
    }
   ],
   "source": [
    "df.to_html()"
   ]
  },
  {
   "cell_type": "code",
   "execution_count": null,
   "id": "0219cb73",
   "metadata": {},
   "outputs": [],
   "source": [
    "browser.quit()"
   ]
  },
  {
   "cell_type": "code",
   "execution_count": null,
   "id": "2b0ff4b2",
   "metadata": {},
   "outputs": [],
   "source": [
    "0"
   ]
  },
  {
   "cell_type": "code",
   "execution_count": null,
   "id": "c0374662",
   "metadata": {},
   "outputs": [],
   "source": []
  }
 ],
 "metadata": {
  "kernelspec": {
   "display_name": "Python 3 (ipykernel)",
   "language": "python",
   "name": "python3"
  },
  "language_info": {
   "codemirror_mode": {
    "name": "ipython",
    "version": 3
   },
   "file_extension": ".py",
   "mimetype": "text/x-python",
   "name": "python",
   "nbconvert_exporter": "python",
   "pygments_lexer": "ipython3",
   "version": "3.8.11"
  }
 },
 "nbformat": 4,
 "nbformat_minor": 5
}
